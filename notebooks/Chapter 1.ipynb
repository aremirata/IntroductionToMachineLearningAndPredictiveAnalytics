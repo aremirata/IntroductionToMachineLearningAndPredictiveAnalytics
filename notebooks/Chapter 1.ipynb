{
 "cells": [
  {
   "cell_type": "markdown",
   "metadata": {},
   "source": [
    "**Predictive modeling**: the process of developing a mathematical tool or model that generates an accurate prediction."
   ]
  },
  {
   "cell_type": "markdown",
   "metadata": {},
   "source": [
    "There are a number of common reasons why predictive models fail, e.g,\n",
    "\n",
    "- inadequante pre-processing of the data\n",
    "- inadequate model validation\n",
    "- unjustified extrapolation\n",
    "- over-fitting the model to the existing data\n",
    "- explore relatively few models when searching for relationships"
   ]
  },
  {
   "cell_type": "markdown",
   "metadata": {},
   "source": [
    "## 1.1 Prediction Versus Interpretation"
   ]
  },
  {
   "cell_type": "markdown",
   "metadata": {},
   "source": [
    "The trade-off between prediction and interpretation depends on the primary goal of the task. The unfortunate reality is that as we push towards higher accuracy, models become more complex and their interpretability becomes more difficult."
   ]
  },
  {
   "cell_type": "markdown",
   "metadata": {},
   "source": [
    "## 1.2 Key Ingredients of Predictive Models"
   ]
  },
  {
   "cell_type": "markdown",
   "metadata": {},
   "source": [
    "The foundation of an effective predictive model is laid with *intuition* and *deep knowledge of the problem context*, which are entirely vital for driving decisions about model development. The process begins with *relevant* data. "
   ]
  },
  {
   "cell_type": "markdown",
   "metadata": {},
   "source": [
    "## 1.3 Terminology"
   ]
  },
  {
   "cell_type": "markdown",
   "metadata": {},
   "source": [
    "- The *sample*, *data point*, *observation*, or *instance* refer to a single independent unit of data\n",
    "- The *training* set consists of the data used to develop models while the *test* or *validation* set is used solely for evaluating the performance of a final set of candidate models. **NOTE**: usually people refer to the *validation* set for evaluating candidates and divide *training* set using cross-validation into several sub-*training* and *test* sets to tune parameters in model development.\n",
    "- The *predictors*, *independent variables*, *attributes*, or *descriptors* are the data used as input for the prediction equation.\n",
    "- The *outcome*, *dependent variable*, *target*, *class*, or *response* refer to the outcome event or quantity that is being predicted."
   ]
  },
  {
   "cell_type": "markdown",
   "metadata": {},
   "source": [
    "## 1.4 Example Data Sets and Typical Data Scenarios"
   ]
  },
  {
   "cell_type": "markdown",
   "metadata": {},
   "source": [
    "## 1.5 Overview"
   ]
  },
  {
   "cell_type": "markdown",
   "metadata": {},
   "source": [
    "- **Part I General Strategies**\n",
    "    - Ch.2 A short tour of the predictive modeling process\n",
    "    - Ch.3 Data pre-processing\n",
    "    - Ch.4 Over-fitting and model tuning\n",
    "- **Part II Regression Models**\n",
    "    - Ch.5 Measuring performance in regression models\n",
    "    - Ch.6 Linear regression and its cousins\n",
    "    - Ch.7 Nonlinear regression models\n",
    "    - Ch.8 Regression trees and rule-based models\n",
    "    - Ch.9 A summary of solubility models\n",
    "    - Ch.10 Case study: compressive strength of concrete\n",
    "- **Part III Classification Models**\n",
    "    - Ch.11 Measuring performance in classification models\n",
    "    - Ch.12 Discriminant analysis and other linear classification models\n",
    "    - Ch.13 Nonlinear classification models\n",
    "    - Ch.14 Classification trees and rule-based models\n",
    "    - Ch.15 A summary of grant application models\n",
    "    - Ch.16 Remedies for severe class imbalance\n",
    "    - Ch.17 Case study: job scheduling\n",
    "- **Part IV Other Considerations**\n",
    "    - Ch.18 Measuring predictor importance\n",
    "    - Ch.19 An introduction to feature selection\n",
    "    - Ch.20 Factors that can affect model performance"
   ]
  },
  {
   "cell_type": "code",
   "execution_count": null,
   "metadata": {},
   "outputs": [],
   "source": []
  }
 ],
 "metadata": {
  "kernelspec": {
   "display_name": "Python 3",
   "language": "python",
   "name": "python3"
  },
  "language_info": {
   "codemirror_mode": {
    "name": "ipython",
    "version": 3
   },
   "file_extension": ".py",
   "mimetype": "text/x-python",
   "name": "python",
   "nbconvert_exporter": "python",
   "pygments_lexer": "ipython3",
   "version": "3.5.5"
  }
 },
 "nbformat": 4,
 "nbformat_minor": 2
}
